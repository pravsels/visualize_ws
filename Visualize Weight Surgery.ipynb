{
 "cells": [
  {
   "cell_type": "code",
   "execution_count": 1,
   "id": "48dc7976",
   "metadata": {},
   "outputs": [
    {
     "data": {
      "text/html": [
       "<pre style=\"white-space:pre;overflow-x:auto;line-height:normal;font-family:Menlo,'DejaVu Sans Mono',consolas,'Courier New',monospace\">Manim Community <span style=\"color: #008000; text-decoration-color: #008000\">v0.17.3</span>\n",
       "\n",
       "</pre>\n"
      ],
      "text/plain": [
       "Manim Community \u001b[32mv0.\u001b[0m\u001b[32m17.3\u001b[0m\n",
       "\n"
      ]
     },
     "metadata": {},
     "output_type": "display_data"
    }
   ],
   "source": [
    "from manim import *\n",
    "import numpy as np\n",
    "from itertools import combinations\n",
    "\n",
    "config.media_width = \"75%\"\n",
    "config.verbosity = \"WARNING\""
   ]
  },
  {
   "cell_type": "code",
   "execution_count": 2,
   "id": "897c4334",
   "metadata": {},
   "outputs": [
    {
     "name": "stderr",
     "output_type": "stream",
     "text": [
      "                                                                                    \r"
     ]
    },
    {
     "data": {
      "text/html": [
       "<video src=\"media/jupyter/ThreeDots@2023-04-09@10-35-07.mp4\" controls autoplay loop style=\"max-width: 75%;\"  >\n",
       "      Your browser does not support the <code>video</code> element.\n",
       "    </video>"
      ],
      "text/plain": [
       "<IPython.core.display.Video object>"
      ]
     },
     "metadata": {},
     "output_type": "display_data"
    }
   ],
   "source": [
    "%%manim -ql ThreeDots\n",
    "\n",
    "class ThreeDots(ThreeDScene):\n",
    "    \n",
    "    def add_objects(self, objects):\n",
    "        for obj in objects:\n",
    "            self.add(obj)\n",
    "    \n",
    "    def remove_objects(self):\n",
    "        removed_objects = self.mobjects.copy()\n",
    "        for arg in self.mobjects:\n",
    "            self.remove(arg)\n",
    "            \n",
    "        return removed_objects\n",
    "            \n",
    "    def play_text(self, text='', wait_time=3):\n",
    "        # Set the size and position of the frame\n",
    "        self.set_camera_orientation(phi=0 * DEGREES, theta=-90 * DEGREES)\n",
    "               \n",
    "        # Create and display the text\n",
    "        text = Text(\"This is a separate fullscreen text\", font_size=50)\n",
    "        self.play(FadeIn(text))\n",
    "\n",
    "        self.wait(wait_time) # wait for 5 seconds before ending the scene\n",
    "        \n",
    "        self.set_camera_orientation(phi=75 * DEGREES, theta=60 * DEGREES)\n",
    "        \n",
    "    \n",
    "    def construct(self):\n",
    "        axes = ThreeDAxes()\n",
    "        \n",
    "        self.renderer.camera.light_source.move_to(3*IN) # changes the source of the light\n",
    "        self.set_camera_orientation(phi=75 * DEGREES, theta=60 * DEGREES)\n",
    "        \n",
    "        self.add(axes)\n",
    "        \n",
    "        # Generate two clusters of random points in 3D space\n",
    "        np.random.seed(0)\n",
    "        cluster1 = np.random.rand(10, 3)\n",
    "        cluster2 = np.random.rand(10, 3) + np.array([2, 0, 0])\n",
    "        \n",
    "        # Create Mobjects for the two clusters of dots\n",
    "        cluster1_dots = VGroup(*[Dot3D(np.array(coords), color=BLUE) for coords in cluster1])\n",
    "        cluster2_dots = VGroup(*[Dot3D(np.array(coords), color=RED) for coords in cluster2])\n",
    "        \n",
    "        # Calculate the centroid of each cluster\n",
    "        centroid1 = np.mean(cluster1, axis=0)\n",
    "        centroid2 = np.mean(cluster2, axis=0)\n",
    "        \n",
    "        # Create Mobjects for the centroids\n",
    "        centroid1_dot = Dot3D(np.array(centroid1), color=YELLOW, radius=0.1)\n",
    "        centroid2_dot = Dot3D(np.array(centroid2), color=YELLOW, radius=0.1)\n",
    "        \n",
    "        # Add the centroids to the scene\n",
    "        self.add(centroid1_dot)\n",
    "        self.add(centroid2_dot)\n",
    "        \n",
    "        # Add the dots to the scene\n",
    "        self.add(cluster1_dots)\n",
    "        self.add(cluster2_dots)\n",
    "        \n",
    "        # Create a line connecting the centroids\n",
    "        centroid_line = Line3D(np.array(centroid1), np.array(centroid2), color=WHITE, stroke_width=0.1)\n",
    "         \n",
    "        # Animate the line\n",
    "        self.play(Create(centroid_line))\n",
    "        \n",
    "        self.wait(3) # wait for 2 seconds\n",
    "\n",
    "        removed_objects = self.remove_objects()\n",
    "    \n",
    "        self.play_text('Calculate the centroids of 2 clusters')\n",
    "        \n",
    "        self.add_objects(removed_objects)"
   ]
  },
  {
   "cell_type": "code",
   "execution_count": null,
   "id": "4df35263",
   "metadata": {},
   "outputs": [],
   "source": []
  },
  {
   "cell_type": "code",
   "execution_count": null,
   "id": "48ddad66",
   "metadata": {},
   "outputs": [],
   "source": []
  },
  {
   "cell_type": "code",
   "execution_count": null,
   "id": "7f62600d",
   "metadata": {},
   "outputs": [],
   "source": [
    "%%manim -ql ThreeDots\n",
    "\n",
    "class ThreeDots(ThreeDScene):\n",
    "    def construct(self):\n",
    "        axes = ThreeDAxes()\n",
    "        \n",
    "        self.renderer.camera.light_source.move_to(3*IN) # changes the source of the light\n",
    "        self.set_camera_orientation(phi=75 * DEGREES, theta=60 * DEGREES)\n",
    "        \n",
    "        self.add(axes)\n",
    "        \n",
    "        # Generate two clusters of random points in 3D space\n",
    "        np.random.seed(0)\n",
    "        cluster1 = np.random.rand(10, 3)\n",
    "        cluster2 = np.random.rand(10, 3) + np.array([2, 0, 0])\n",
    "        \n",
    "        # Create Mobjects for the two clusters of dots\n",
    "        cluster1_dots = VGroup(*[Dot3D(np.array(coords), color=BLUE) for coords in cluster1])\n",
    "        cluster2_dots = VGroup(*[Dot3D(np.array(coords), color=RED) for coords in cluster2])\n",
    "        \n",
    "        # Calculate the centroid of each cluster\n",
    "        centroid1 = np.mean(cluster1, axis=0)\n",
    "        centroid2 = np.mean(cluster2, axis=0)\n",
    "        \n",
    "        # Create Mobjects for the centroids\n",
    "        centroid1_dot = Dot3D(np.array(centroid1), color=YELLOW, radius=0.1)\n",
    "        centroid2_dot = Dot3D(np.array(centroid2), color=YELLOW, radius=0.1)\n",
    "        \n",
    "        self.add(cluster1_dots)\n",
    "        self.add(cluster2_dots)\n",
    "        \n",
    "        # Create a line connecting the centroids\n",
    "        centroid_line = Line3D(np.array(centroid1), np.array(centroid2), color=WHITE, stroke_width=0.1)\n",
    "        \n",
    "        # Add a title to the scene\n",
    "        title = TextMobject(\"Two Clusters with Centroids\").to_corner(UL)\n",
    "        self.add(title)\n",
    "       \n",
    "        \n",
    "        # Animate the line\n",
    "        self.play(Create(centroid_line))\n",
    "         \n",
    "        \n",
    "        # Project all points onto a plane perpendicular to the centroid line\n",
    "        plane_normal = np.array(centroid2) - np.array(centroid1)\n",
    "        plane_normal /= np.linalg.norm(plane_normal)\n",
    "        proj_mat = np.identity(3) - np.outer(plane_normal, plane_normal)\n",
    "        cluster1_proj = np.matmul(cluster1, proj_mat)\n",
    "        cluster2_proj = np.matmul(cluster2, proj_mat)\n",
    "        centroid1_proj = np.matmul(centroid1, proj_mat)\n",
    "        centroid2_proj = np.matmul(centroid2, proj_mat)\n",
    "        \n",
    "#         Create Mobjects for the projected clusters of dots\n",
    "#         print([coords.shape for coords in cluster1_proj])\n",
    "        cluster1_dots_proj = VGroup(*[Dot(np.array(coords), color=BLUE) for coords in cluster1_proj])\n",
    "        cluster2_dots_proj = VGroup(*[Dot(np.array(coords), color=RED) for coords in cluster2_proj])\n",
    "        \n",
    "        # Create Mobjects for the projected centroids\n",
    "        centroid1_dot_proj = Dot(np.array(centroid1_proj), color=YELLOW, radius=0.1)\n",
    "        centroid2_dot_proj = Dot(np.array(centroid2_proj), color=YELLOW, radius=0.1)\n",
    "        \n",
    "        # Add the dots and the line to the scene\n",
    "        self.add(cluster1_dots_proj)\n",
    "#         self.add(cluster2_dots_proj)\n",
    "        self.add(centroid1_dot_proj)\n",
    "#         self.add(centroid2_dot_proj)\n",
    "        \n",
    "        # Animate the dots and the centroids\n",
    "#         self.play(\n",
    "#             Transform(cluster1_dots, cluster1_dots_proj),\n",
    "#             Transform(cluster2_dots, cluster2_dots_proj),\n",
    "#             Transform(centroid1_dot, centroid1_dot_proj),\n",
    "#             Transform(centroid2_dot, centroid2_dot_proj)\n",
    "#         )\n"
   ]
  }
 ],
 "metadata": {
  "kernelspec": {
   "display_name": "Python 3 (ipykernel)",
   "language": "python",
   "name": "python3"
  },
  "language_info": {
   "codemirror_mode": {
    "name": "ipython",
    "version": 3
   },
   "file_extension": ".py",
   "mimetype": "text/x-python",
   "name": "python",
   "nbconvert_exporter": "python",
   "pygments_lexer": "ipython3",
   "version": "3.8.16"
  }
 },
 "nbformat": 4,
 "nbformat_minor": 5
}
